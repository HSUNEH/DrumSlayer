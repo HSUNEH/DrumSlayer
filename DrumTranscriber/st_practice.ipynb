{
 "cells": [
  {
   "cell_type": "code",
   "execution_count": 2,
   "metadata": {},
   "outputs": [],
   "source": [
    "from torch.utils.data import Dataset\n",
    "import glob\n",
    "import numpy\n",
    "import pretty_midi\n",
    "import os\n",
    "from tqdm import tqdm\n",
    "import random\n",
    "import torch\n",
    "import torch.nn.functional as F\n",
    "import numpy as np\n",
    "import pretty_midi\n",
    "from einops import rearrange"
   ]
  },
  {
   "cell_type": "code",
   "execution_count": 31,
   "metadata": {},
   "outputs": [],
   "source": [
    "def tokenize_audio_mono(kick_midi, snare_midi, hihat_midi, kick_dac_l, snare_dac_l, hihat_dac_l):\n",
    "    midi_vocab_size = 1000+128+4+1 # 1133\n",
    "    audio_vocal_size = 1024+4+1 # 1029\n",
    "\n",
    "    midi_tokens = []\n",
    "    for type, midi in enumerate([kick_midi, snare_midi, hihat_midi]):\n",
    "        for note in midi.instruments[0].notes:\n",
    "            onset = int(note.start // 0.005) # Time resolution is 5ms\n",
    "            vel = int(note.velocity)\n",
    "            if onset <800: # 4sec\n",
    "                midi_tokens.append([4+onset, 4+1000+vel, 4+1000+128+type]) # 2 is reserved for start and end tokens.\n",
    "    midi_tokens.sort(key=lambda x: x[0]) # Sort by onset time.\n",
    "    midi_tokens = [item for sublist in midi_tokens for item in sublist] # Flatten.\n",
    "    all_tokens_np = np.ones((1+(kick_dac_l.shape[0]),152+(431+8+1)*3), dtype=np.int32) * 2   # <PAD> token = 2 \n",
    "    \n",
    "    all_tokens_np[0,1:len(midi_tokens)+1] = np.array(midi_tokens, dtype=np.int32)\n",
    "    all_tokens_np[:,0] = 0 # <SOS> token\n",
    "    \n",
    "    return midi_tokens, all_tokens_np\n"
   ]
  },
  {
   "cell_type": "code",
   "execution_count": 5,
   "metadata": {},
   "outputs": [
    {
     "data": {
      "text/plain": [
       "(9, 345)"
      ]
     },
     "execution_count": 5,
     "metadata": {},
     "output_type": "execute_result"
    }
   ],
   "source": [
    "kick_midi = pretty_midi.PrettyMIDI('/Users/hwang/DrumSlayer/generated_data/drum_data_test/generated_midi/kick_midi/kick_midi_0.midi')\n",
    "snare_midi = pretty_midi.PrettyMIDI('/Users/hwang/DrumSlayer/generated_data/drum_data_test/generated_midi/snare_midi/snare_midi_0.midi')\n",
    "hihat_midi = pretty_midi.PrettyMIDI('/Users/hwang/DrumSlayer/generated_data/drum_data_test/generated_midi/hihat_midi/hihat_midi_0.midi')\n",
    "\n",
    "audio_dac = np.load('/Users/hwang/DrumSlayer/generated_data/drum_data_test/mixed_loops/0_codes.npy')\n",
    "audio_dac_l = audio_dac[0, :, :]\n",
    "audio_dac_l.shape\n"
   ]
  },
  {
   "cell_type": "code",
   "execution_count": 32,
   "metadata": {},
   "outputs": [],
   "source": [
    "midi_token ,all_token = tokenize_audio_mono(kick_midi, snare_midi, hihat_midi, audio_dac_l, audio_dac_l, audio_dac_l)"
   ]
  },
  {
   "cell_type": "code",
   "execution_count": 35,
   "metadata": {},
   "outputs": [
    {
     "data": {
      "text/plain": [
       "72"
      ]
     },
     "execution_count": 35,
     "metadata": {},
     "output_type": "execute_result"
    }
   ],
   "source": [
    "len(midi_token)"
   ]
  },
  {
   "cell_type": "code",
   "execution_count": 18,
   "metadata": {},
   "outputs": [
    {
     "data": {
      "text/plain": [
       "[4,\n",
       " 1103,\n",
       " 1134,\n",
       " 28,\n",
       " 1106,\n",
       " 1134,\n",
       " 41,\n",
       " 1103,\n",
       " 1134,\n",
       " 53,\n",
       " 1096,\n",
       " 1132,\n",
       " 78,\n",
       " 1107,\n",
       " 1134,\n",
       " 128,\n",
       " 1100,\n",
       " 1134,\n",
       " 178,\n",
       " 1106,\n",
       " 1133,\n",
       " 178,\n",
       " 1108,\n",
       " 1134,\n",
       " 203,\n",
       " 1106,\n",
       " 1134,\n",
       " 228,\n",
       " 1108,\n",
       " 1134]"
      ]
     },
     "execution_count": 18,
     "metadata": {},
     "output_type": "execute_result"
    }
   ],
   "source": [
    "midi_token[0:30]"
   ]
  }
 ],
 "metadata": {
  "kernelspec": {
   "display_name": "drum",
   "language": "python",
   "name": "python3"
  },
  "language_info": {
   "codemirror_mode": {
    "name": "ipython",
    "version": 3
   },
   "file_extension": ".py",
   "mimetype": "text/x-python",
   "name": "python",
   "nbconvert_exporter": "python",
   "pygments_lexer": "ipython3",
   "version": "3.10.12"
  }
 },
 "nbformat": 4,
 "nbformat_minor": 2
}
